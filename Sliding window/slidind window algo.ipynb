{
 "cells": [
  {
   "cell_type": "markdown",
   "metadata": {},
   "source": [
    "# ----- Max Sum Subarray of size K"
   ]
  },
  {
   "cell_type": "code",
   "execution_count": null,
   "metadata": {},
   "outputs": [],
   "source": [
    "\n",
    "\n",
    "class Solution:\n",
    "    def maximumSumSubarray (self,K,Arr,N):\n",
    "        i=0\n",
    "        j=0\n",
    "        s=0\n",
    "        ans=0\n",
    "        \n",
    "        while (j<len(Arr)):\n",
    "            s+=Arr[j]\n",
    "            if (j-i+1)<K:\n",
    "                j+=1\n",
    "            else:\n",
    "                if (j-i+1)==K:\n",
    "                    ans=max(ans,s)\n",
    "                    s-=Arr[i]\n",
    "                    i+=1\n",
    "                    j+=1\n",
    "        return ans"
   ]
  },
  {
   "cell_type": "markdown",
   "metadata": {},
   "source": [
    "# =------- Q3 First negative integer in every window of size k"
   ]
  },
  {
   "cell_type": "code",
   "execution_count": 9,
   "metadata": {},
   "outputs": [
    {
     "name": "stdout",
     "output_type": "stream",
     "text": [
      "[-8, 0, -6, -6]\n"
     ]
    }
   ],
   "source": [
    "\n",
    "\n",
    "\n",
    "def printFirstNegativeInteger( A, N, K):\n",
    "    i=0\n",
    "    j=0\n",
    "    q=[]\n",
    "    an=[]\n",
    "    while (j<N):\n",
    "        if (A[j]<0):\n",
    "            q.append(A[j])\n",
    "        if (j-i+1)<K:\n",
    "            j+=1\n",
    "        else:\n",
    "            if (j-i+1)==K:\n",
    "                if len(q)==0:\n",
    "                    an.append(0)\n",
    "                else:\n",
    "                    an.append(q[0])\n",
    "                    if (A[i]==q[0]):\n",
    "                        q.pop(0)\n",
    "                i+=1\n",
    "                j+=1\n",
    "    return an\n",
    "print(printFirstNegativeInteger([-8,2,3,-6,10],5,2))"
   ]
  },
  {
   "cell_type": "markdown",
   "metadata": {},
   "source": [
    "# --------------- question 4 Count Occurences of Anagrams "
   ]
  },
  {
   "cell_type": "code",
   "execution_count": 2,
   "metadata": {},
   "outputs": [
    {
     "name": "stdout",
     "output_type": "stream",
     "text": [
      "1\n"
     ]
    }
   ],
   "source": [
    "# Count Occurences of Anagrams \n",
    "from  collections import Counter\n",
    "\n",
    "def fun(s):\n",
    "    d={}\n",
    "    for i in s:\n",
    "        if i in d:\n",
    "            d[i]+=1\n",
    "        else:\n",
    "            d[i]=1\n",
    "    return d\n",
    "\n",
    "def search (pat ,txt):\n",
    "    k=len(pat)\n",
    "    ma=fun(pat)\n",
    "    i=0\n",
    "    j=0\n",
    "    count=len(ma)\n",
    "    ans=0\n",
    "    while (j<len(txt)):\n",
    "        #calculation\n",
    "        if txt[j] in ma:\n",
    "            if ma[txt[j]]>0:\n",
    "                ma[txt[j]]-=1\n",
    "        # if txt[j] in ma:\n",
    "        if txt[j] in ma:\n",
    "            if ma[txt[j]]==0:\n",
    "                count-=1\n",
    "        \n",
    "        if (j-i+1)<k:\n",
    "            j+=1\n",
    "        else:\n",
    "            if (j-i+1)==k:\n",
    "                if (count==0):\n",
    "                    ans+=1\n",
    "                if txt[i] in ma:\n",
    "                    ma[txt[i]]+=1\n",
    "                    if ma[txt[i]]==0:\n",
    "                        count-=1\n",
    "                \n",
    "                i+=1\n",
    "                j+=1\n",
    "    return ans\n",
    "# txt = \"forxxorfxdofr\"\n",
    "# pat = \"for\" \n",
    "# txt=\"kkkkkkkkkkkkkkkkkkkkkkkkkkkkkkkkkkkkkkkkk\"\n",
    "# pat=\"kkkkk\"\n",
    "\n",
    "txt=\"usjgmhcmhgdnmphnqkamhurktrffaclvgrzkkldacl\"\n",
    "pat=\"lteojomonxrqyjzginrnnzwacxxaedrwudxzrfu\"\n",
    "s = \"cbaebabacd\"\n",
    "p = \"abc\"\n",
    "# print(search(p,s))         \n",
    "print(search(pat,txt)) \n",
    "# print(Counter(pat))    \n",
    "    "
   ]
  },
  {
   "cell_type": "code",
   "execution_count": 3,
   "metadata": {},
   "outputs": [
    {
     "name": "stdout",
     "output_type": "stream",
     "text": [
      "[0, 6]\n"
     ]
    }
   ],
   "source": [
    "\n",
    "# This is leetcode question similar as above queastion\n",
    "from collections import Counter\n",
    "# s=\"usjgmhcmhgdnmphnqkamhurktrffaclvgrzkkldacl\"\n",
    "# p=\"lteojomonxrqyjzginrnnzwacxxaedrwudxzrfu\"\n",
    "\n",
    "s = \"cbaebabacd\"\n",
    "p = \"abc\"\n",
    "d=Counter(p)\n",
    "k=len(p)\n",
    "count=len(d) #taking the number of different letters present in pattern. So that when if turns to 0, we can fetch the index.\n",
    "i=0\n",
    "j=0\n",
    "ans=[]\n",
    "\n",
    "#First increase the j to make the slider size k. ie j-i+1=k\n",
    "#Then check for count. If it is zero we take the value of i.\n",
    "while(j<len(s)):\n",
    "    \n",
    "    if s[j] in d:    \n",
    "        d[s[j]]-=1\n",
    "        if d[s[j]]==0:\n",
    "            count-=1\n",
    "    \n",
    "    if(j-i+1<k):\n",
    "        j+=1\n",
    "        \n",
    "    #When slider hits the size k\n",
    "    elif (j-i+1==k):\n",
    "        if count==0:\n",
    "            ans.append(i)\n",
    "        #While shifting we need to revome the ith element so that the size remain fixed. \n",
    "\t\t#We also need to update the value of count if required.\n",
    "        if s[i] in d:\n",
    "            d[s[i]]+=1\n",
    "            if d[s[i]]==1:\n",
    "                count+=1\n",
    "        i+=1\n",
    "        j+=1\n",
    "print(ans)"
   ]
  },
  {
   "cell_type": "markdown",
   "metadata": {},
   "source": [
    "# --------------Question 5 subarray sum is equal to k-------------\n"
   ]
  },
  {
   "cell_type": "code",
   "execution_count": 1,
   "metadata": {},
   "outputs": [
    {
     "name": "stdout",
     "output_type": "stream",
     "text": [
      "[3, 3, 5, 5, 6, 7]\n"
     ]
    }
   ],
   "source": [
    "\n",
    "\n",
    "\n",
    "# Maximum of all subarrays of size k\n",
    "nums = [1,3,-1,-3,5,3,6,7]\n",
    "k = 3\n",
    "# Output: [3,3,5,5,6,7]\n",
    "i=0\n",
    "j=0\n",
    "l=[]\n",
    "ans=[]\n",
    "\n",
    "while (j<len(nums)):\n",
    "    \n",
    "    #calculation\n",
    "    \n",
    "    while((len(l) >0) and (l[-1]<nums[j])):\n",
    "        l.pop()\n",
    "    l.append(nums[j])\n",
    "    \n",
    "    if (j-i+1)<k:\n",
    "        j+=1\n",
    "    \n",
    "    else:\n",
    "        if (j-i+1)==k:\n",
    "            ans.append(l[0])\n",
    "            if (l[0]==nums[i]):\n",
    "                l.pop(0)\n",
    "            i+=1\n",
    "            j+=1\n",
    "print(ans)\n",
    "            "
   ]
  },
  {
   "cell_type": "code",
   "execution_count": null,
   "metadata": {},
   "outputs": [],
   "source": [
    "\n",
    "# --for both -ve and positive num \n",
    "class Solution:\n",
    "    def subarraySum(self, arr: List[int], Sum: int) -> int:\n",
    "        n=len(arr)\n",
    "        # Dictionary to store number of subarrays \n",
    "        # starting from index zero having  \n",
    "        # particular value of sum. \n",
    "        prevSum = defaultdict(lambda : 0)\n",
    "        res = 0 \n",
    "        # Sum of elements so far. \n",
    "        currsum = 0 \n",
    "        for i in range(0, n):  \n",
    "      \n",
    "            # Add current element to sum so far. \n",
    "            currsum += arr[i] \n",
    "      \n",
    "            # If currsum is equal to desired sum, \n",
    "            # then a new subarray is found. So \n",
    "            # increase count of subarrays. \n",
    "            if currsum == Sum:  \n",
    "                res += 1         \n",
    "      \n",
    "            # currsum exceeds given sum by currsum  - sum.\n",
    "            # Find number of subarrays having  \n",
    "            # this sum and exclude those subarrays \n",
    "            # from currsum by increasing count by  \n",
    "            # same amount. \n",
    "            if (currsum - Sum) in prevSum:\n",
    "                res += prevSum[currsum - Sum] \n",
    "              \n",
    "      \n",
    "            # Add currsum value to count of  \n",
    "            # different values of sum. \n",
    "            prevSum[currsum] += 1 \n",
    "         \n",
    "        return res \n",
    "\n",
    "\n",
    "\n",
    "#--if all elements are positive\n",
    "class Solution:\n",
    "    def subarraySum(self, nums: List[int], k: int) -> int:\n",
    "        i = 0\n",
    "        j = 0\n",
    "        n = len(nums)\n",
    "        s = 0\n",
    "        subarrayCount = 0\n",
    "        while j < n:\n",
    "            s += nums[j]\n",
    "            if s < k:\n",
    "                j += 1\n",
    "            elif s == k:\n",
    "                subarrayCount += 1\n",
    "                j += 1\n",
    "            else:\n",
    "                while s > k:\n",
    "                    s -= nums[i]\n",
    "                    i += 1\n",
    "                    if s == k:\n",
    "                        subarrayCount += 1\n",
    "                        break\n",
    "                    j += 1\n",
    "        return subarrayCount"
   ]
  },
  {
   "cell_type": "code",
   "execution_count": 11,
   "metadata": {},
   "outputs": [
    {
     "data": {
      "text/plain": [
       "27"
      ]
     },
     "execution_count": 11,
     "metadata": {},
     "output_type": "execute_result"
    }
   ],
   "source": [
    "\n",
    "\n",
    "\n",
    "\t# // Function to print bonacci series \n",
    "class GFG { \n",
    "\t\n",
    "\tstatic void bonacciseries(int n, int m) \n",
    "\t{ \n",
    "\t\n",
    "\t\t// Assuming m > n. \n",
    "\t\tint a[] = new int[m]; \n",
    "\t\tfor(int i = 0; i < m; i++) \n",
    "\t\t\ta[i] = 0; \n",
    "\t\t\t\n",
    "\t\ta[n - 1] = 1; \n",
    "\t\ta[n] = 1; \n",
    "\t\n",
    "\t\t// Uses sliding window \n",
    "\t\tfor (int i = n + 1; i < m; i++) \n",
    "\t\t\ta[i] = 2 * a[i - 1] - a[i - n - 1]; \n",
    "\t\n",
    "\t\t// Printing result \n",
    "\t\tfor (int i = 0; i < m; i++) \n",
    "\t\t\tSystem.out.print(a[i] + \" \"); \n",
    "\t} \n",
    "\t\n",
    "\t// Driver's Code \n",
    "\tpublic static void main(String args[]) \n",
    "\t{ \n",
    "\t\tint N = 5, M = 15; \n",
    "\t\tbonacciseries(N, M); \n",
    "\t} \n",
    "} \n",
    "\n"
   ]
  },
  {
   "cell_type": "markdown",
   "metadata": {},
   "source": [
    "# -------Question larget subarray with k unique characters ----\n",
    "\n",
    "--similar Q--\n",
    "1. longest substring with without repeating char"
   ]
  },
  {
   "cell_type": "code",
   "execution_count": 1,
   "metadata": {},
   "outputs": [],
   "source": [
    "# # s=\"aabacbebebe\"\n",
    "# # k=3\n",
    "# # # ans = cbebebe\n",
    "class Solution:\n",
    "    def totalFruit(self, arr) -> int:\n",
    "        if len(set(arr))==1:\n",
    "            return len(arr)\n",
    "        i=0\n",
    "        j=0\n",
    "        ans = 0\n",
    "        mp={}\n",
    "        \n",
    "        n=len(arr)\n",
    "        k=2\n",
    "        while (j<n):\n",
    "            ch=arr[j]\n",
    "            if (ch in mp):\n",
    "                mp[ch]+=1\n",
    "            else:\n",
    "                mp[ch]=1\n",
    "                \n",
    "            if (len(mp)<k):\n",
    "                j+=1\n",
    "            elif (len(mp)==k):\n",
    "                ans = max (ans , j-i+1)\n",
    "                j+=1\n",
    "            elif (len(mp)>k):\n",
    "                \n",
    "                while (len(mp)>k):\n",
    "                    mp[arr[i]]-=1\n",
    "                    if (mp[arr[i]])==0:\n",
    "                        # mp.pop(arr[i])\n",
    "                        # or \n",
    "                        del mp[arr[i]]\n",
    "                    i+=1\n",
    "                    \n",
    "                    if (len(mp))==k:\n",
    "                        \n",
    "                        ans = max(ans , j-i+1)\n",
    "                j+=1\n",
    "        \n",
    "        if ans ==0:\n",
    "            return -1\n",
    "        return ans\n",
    "     "
   ]
  },
  {
   "cell_type": "markdown",
   "metadata": {},
   "source": [
    "# -- 904. Fruit Into Baskets\n"
   ]
  },
  {
   "cell_type": "code",
   "execution_count": null,
   "metadata": {},
   "outputs": [],
   "source": [
    "class Solution:\n",
    "    def totalFruit(self, arr) -> int:\n",
    "        if len(set(arr))==1:\n",
    "            return len(arr)\n",
    "        i=0\n",
    "        j=0\n",
    "        ans = 0\n",
    "        mp={}\n",
    "        \n",
    "        n=len(arr)\n",
    "        k=2\n",
    "        while (j<n):\n",
    "            ch=arr[j]\n",
    "            if (ch in mp):\n",
    "                mp[ch]+=1\n",
    "            else:\n",
    "                mp[ch]=1\n",
    "                \n",
    "            if (len(mp)<k):\n",
    "                j+=1\n",
    "            elif (len(mp)==k):\n",
    "                ans = max (ans , j-i+1)\n",
    "                j+=1\n",
    "            elif (len(mp)>k):\n",
    "                \n",
    "                while (len(mp)>k):\n",
    "                    mp[arr[i]]-=1\n",
    "                    if (mp[arr[i]])==0:\n",
    "                        # mp.pop(arr[i])\n",
    "                        # or \n",
    "                        del mp[arr[i]]\n",
    "                    i+=1\n",
    "                    \n",
    "                    if (len(mp))==k:\n",
    "                        \n",
    "                        ans = max(ans , j-i+1)\n",
    "                j+=1\n",
    "        \n",
    "        if ans ==0:\n",
    "            return -1\n",
    "        return ans\n",
    "                "
   ]
  },
  {
   "cell_type": "code",
   "execution_count": null,
   "metadata": {},
   "outputs": [],
   "source": []
  }
 ],
 "metadata": {
  "kernelspec": {
   "display_name": "Python 3.9.1 64-bit",
   "language": "python",
   "name": "python3"
  },
  "language_info": {
   "codemirror_mode": {
    "name": "ipython",
    "version": 3
   },
   "file_extension": ".py",
   "mimetype": "text/x-python",
   "name": "python",
   "nbconvert_exporter": "python",
   "pygments_lexer": "ipython3",
   "version": "3.9.1"
  },
  "orig_nbformat": 4,
  "vscode": {
   "interpreter": {
    "hash": "774bfae9a6486279c057f8f7c40ce72d7408c99b162a61fa72e696237f34197d"
   }
  }
 },
 "nbformat": 4,
 "nbformat_minor": 2
}
