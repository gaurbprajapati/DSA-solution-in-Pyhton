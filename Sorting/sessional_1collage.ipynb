{
 "cells": [
  {
   "cell_type": "markdown",
   "metadata": {},
   "source": [
    "INSERTUION AND DELETION IN PYHTON ARRAY"
   ]
  },
  {
   "cell_type": "code",
   "execution_count": null,
   "metadata": {},
   "outputs": [],
   "source": [
    "#insertion\n",
    "list=[1,2,3,4,5,7]\n",
    "index=4\n",
    "for i in range (index,len(list)):\n",
    "    \n",
    "    "
   ]
  },
  {
   "cell_type": "code",
   "execution_count": 6,
   "metadata": {},
   "outputs": [
    {
     "name": "stdout",
     "output_type": "stream",
     "text": [
      "-1\n"
     ]
    }
   ],
   "source": [
    "#linear search\n",
    "def linear(arr,key):\n",
    "    for i in range (len(arr)):\n",
    "        if arr[i]==key:\n",
    "            return i\n",
    "    return -1\n",
    "\n",
    "ar=[1,3,7,8,9,7,8,10]\n",
    "key=0\n",
    "print(linear(ar,key))\n"
   ]
  },
  {
   "cell_type": "code",
   "execution_count": 10,
   "metadata": {},
   "outputs": [
    {
     "ename": "IndexError",
     "evalue": "list index out of range",
     "output_type": "error",
     "traceback": [
      "\u001b[1;31m---------------------------------------------------------------------------\u001b[0m",
      "\u001b[1;31mIndexError\u001b[0m                                Traceback (most recent call last)",
      "\u001b[1;32m<ipython-input-10-aa789ad67182>\u001b[0m in \u001b[0;36m<module>\u001b[1;34m\u001b[0m\n\u001b[0;32m     13\u001b[0m         \u001b[1;32mreturn\u001b[0m \u001b[1;33m-\u001b[0m\u001b[1;36m1\u001b[0m\u001b[1;33m\u001b[0m\u001b[1;33m\u001b[0m\u001b[0m\n\u001b[0;32m     14\u001b[0m \u001b[1;33m\u001b[0m\u001b[0m\n\u001b[1;32m---> 15\u001b[1;33m \u001b[0mprint\u001b[0m\u001b[1;33m(\u001b[0m\u001b[0mbineary\u001b[0m\u001b[1;33m(\u001b[0m\u001b[0msorted\u001b[0m\u001b[1;33m(\u001b[0m\u001b[0mar\u001b[0m\u001b[1;33m)\u001b[0m\u001b[1;33m,\u001b[0m\u001b[1;36m0\u001b[0m\u001b[1;33m,\u001b[0m\u001b[0mlen\u001b[0m\u001b[1;33m(\u001b[0m\u001b[0mar\u001b[0m\u001b[1;33m)\u001b[0m\u001b[1;33m-\u001b[0m\u001b[1;36m1\u001b[0m\u001b[1;33m,\u001b[0m\u001b[1;36m88\u001b[0m\u001b[1;33m)\u001b[0m\u001b[1;33m)\u001b[0m\u001b[1;33m\u001b[0m\u001b[1;33m\u001b[0m\u001b[0m\n\u001b[0m\u001b[0;32m     16\u001b[0m \u001b[1;33m\u001b[0m\u001b[0m\n",
      "\u001b[1;32m<ipython-input-10-aa789ad67182>\u001b[0m in \u001b[0;36mbineary\u001b[1;34m(ar, s, e, k)\u001b[0m\n\u001b[0;32m      9\u001b[0m             \u001b[1;32mreturn\u001b[0m \u001b[0mbineary\u001b[0m\u001b[1;33m(\u001b[0m\u001b[0mar\u001b[0m\u001b[1;33m,\u001b[0m\u001b[0ms\u001b[0m\u001b[1;33m,\u001b[0m\u001b[0mmid\u001b[0m\u001b[1;33m-\u001b[0m\u001b[1;36m1\u001b[0m\u001b[1;33m,\u001b[0m\u001b[0mk\u001b[0m\u001b[1;33m)\u001b[0m\u001b[1;33m\u001b[0m\u001b[1;33m\u001b[0m\u001b[0m\n\u001b[0;32m     10\u001b[0m         \u001b[1;32melse\u001b[0m\u001b[1;33m:\u001b[0m\u001b[1;33m\u001b[0m\u001b[1;33m\u001b[0m\u001b[0m\n\u001b[1;32m---> 11\u001b[1;33m             \u001b[1;32mreturn\u001b[0m \u001b[0mbineary\u001b[0m\u001b[1;33m(\u001b[0m\u001b[0mar\u001b[0m\u001b[1;33m,\u001b[0m\u001b[0mmid\u001b[0m\u001b[1;33m-\u001b[0m\u001b[1;36m1\u001b[0m\u001b[1;33m,\u001b[0m\u001b[0me\u001b[0m\u001b[1;33m,\u001b[0m\u001b[0mk\u001b[0m\u001b[1;33m)\u001b[0m\u001b[1;33m\u001b[0m\u001b[1;33m\u001b[0m\u001b[0m\n\u001b[0m\u001b[0;32m     12\u001b[0m     \u001b[1;32melse\u001b[0m\u001b[1;33m:\u001b[0m\u001b[1;33m\u001b[0m\u001b[1;33m\u001b[0m\u001b[0m\n\u001b[0;32m     13\u001b[0m         \u001b[1;32mreturn\u001b[0m \u001b[1;33m-\u001b[0m\u001b[1;36m1\u001b[0m\u001b[1;33m\u001b[0m\u001b[1;33m\u001b[0m\u001b[0m\n",
      "\u001b[1;32m<ipython-input-10-aa789ad67182>\u001b[0m in \u001b[0;36mbineary\u001b[1;34m(ar, s, e, k)\u001b[0m\n\u001b[0;32m      9\u001b[0m             \u001b[1;32mreturn\u001b[0m \u001b[0mbineary\u001b[0m\u001b[1;33m(\u001b[0m\u001b[0mar\u001b[0m\u001b[1;33m,\u001b[0m\u001b[0ms\u001b[0m\u001b[1;33m,\u001b[0m\u001b[0mmid\u001b[0m\u001b[1;33m-\u001b[0m\u001b[1;36m1\u001b[0m\u001b[1;33m,\u001b[0m\u001b[0mk\u001b[0m\u001b[1;33m)\u001b[0m\u001b[1;33m\u001b[0m\u001b[1;33m\u001b[0m\u001b[0m\n\u001b[0;32m     10\u001b[0m         \u001b[1;32melse\u001b[0m\u001b[1;33m:\u001b[0m\u001b[1;33m\u001b[0m\u001b[1;33m\u001b[0m\u001b[0m\n\u001b[1;32m---> 11\u001b[1;33m             \u001b[1;32mreturn\u001b[0m \u001b[0mbineary\u001b[0m\u001b[1;33m(\u001b[0m\u001b[0mar\u001b[0m\u001b[1;33m,\u001b[0m\u001b[0mmid\u001b[0m\u001b[1;33m-\u001b[0m\u001b[1;36m1\u001b[0m\u001b[1;33m,\u001b[0m\u001b[0me\u001b[0m\u001b[1;33m,\u001b[0m\u001b[0mk\u001b[0m\u001b[1;33m)\u001b[0m\u001b[1;33m\u001b[0m\u001b[1;33m\u001b[0m\u001b[0m\n\u001b[0m\u001b[0;32m     12\u001b[0m     \u001b[1;32melse\u001b[0m\u001b[1;33m:\u001b[0m\u001b[1;33m\u001b[0m\u001b[1;33m\u001b[0m\u001b[0m\n\u001b[0;32m     13\u001b[0m         \u001b[1;32mreturn\u001b[0m \u001b[1;33m-\u001b[0m\u001b[1;36m1\u001b[0m\u001b[1;33m\u001b[0m\u001b[1;33m\u001b[0m\u001b[0m\n",
      "\u001b[1;32m<ipython-input-10-aa789ad67182>\u001b[0m in \u001b[0;36mbineary\u001b[1;34m(ar, s, e, k)\u001b[0m\n\u001b[0;32m      9\u001b[0m             \u001b[1;32mreturn\u001b[0m \u001b[0mbineary\u001b[0m\u001b[1;33m(\u001b[0m\u001b[0mar\u001b[0m\u001b[1;33m,\u001b[0m\u001b[0ms\u001b[0m\u001b[1;33m,\u001b[0m\u001b[0mmid\u001b[0m\u001b[1;33m-\u001b[0m\u001b[1;36m1\u001b[0m\u001b[1;33m,\u001b[0m\u001b[0mk\u001b[0m\u001b[1;33m)\u001b[0m\u001b[1;33m\u001b[0m\u001b[1;33m\u001b[0m\u001b[0m\n\u001b[0;32m     10\u001b[0m         \u001b[1;32melse\u001b[0m\u001b[1;33m:\u001b[0m\u001b[1;33m\u001b[0m\u001b[1;33m\u001b[0m\u001b[0m\n\u001b[1;32m---> 11\u001b[1;33m             \u001b[1;32mreturn\u001b[0m \u001b[0mbineary\u001b[0m\u001b[1;33m(\u001b[0m\u001b[0mar\u001b[0m\u001b[1;33m,\u001b[0m\u001b[0mmid\u001b[0m\u001b[1;33m-\u001b[0m\u001b[1;36m1\u001b[0m\u001b[1;33m,\u001b[0m\u001b[0me\u001b[0m\u001b[1;33m,\u001b[0m\u001b[0mk\u001b[0m\u001b[1;33m)\u001b[0m\u001b[1;33m\u001b[0m\u001b[1;33m\u001b[0m\u001b[0m\n\u001b[0m\u001b[0;32m     12\u001b[0m     \u001b[1;32melse\u001b[0m\u001b[1;33m:\u001b[0m\u001b[1;33m\u001b[0m\u001b[1;33m\u001b[0m\u001b[0m\n\u001b[0;32m     13\u001b[0m         \u001b[1;32mreturn\u001b[0m \u001b[1;33m-\u001b[0m\u001b[1;36m1\u001b[0m\u001b[1;33m\u001b[0m\u001b[1;33m\u001b[0m\u001b[0m\n",
      "\u001b[1;32m<ipython-input-10-aa789ad67182>\u001b[0m in \u001b[0;36mbineary\u001b[1;34m(ar, s, e, k)\u001b[0m\n\u001b[0;32m      4\u001b[0m     \u001b[1;32mif\u001b[0m \u001b[0me\u001b[0m \u001b[1;33m>=\u001b[0m \u001b[0ms\u001b[0m\u001b[1;33m:\u001b[0m\u001b[1;33m\u001b[0m\u001b[1;33m\u001b[0m\u001b[0m\n\u001b[0;32m      5\u001b[0m         \u001b[0mmid\u001b[0m\u001b[1;33m=\u001b[0m\u001b[0ms\u001b[0m\u001b[1;33m+\u001b[0m\u001b[0me\u001b[0m\u001b[1;33m//\u001b[0m\u001b[1;36m2\u001b[0m\u001b[1;33m\u001b[0m\u001b[1;33m\u001b[0m\u001b[0m\n\u001b[1;32m----> 6\u001b[1;33m         \u001b[1;32mif\u001b[0m \u001b[0mar\u001b[0m\u001b[1;33m[\u001b[0m\u001b[0mmid\u001b[0m\u001b[1;33m]\u001b[0m\u001b[1;33m==\u001b[0m\u001b[0mk\u001b[0m\u001b[1;33m:\u001b[0m\u001b[1;33m\u001b[0m\u001b[1;33m\u001b[0m\u001b[0m\n\u001b[0m\u001b[0;32m      7\u001b[0m             \u001b[1;32mreturn\u001b[0m \u001b[0mmid\u001b[0m\u001b[1;33m\u001b[0m\u001b[1;33m\u001b[0m\u001b[0m\n\u001b[0;32m      8\u001b[0m         \u001b[1;32melif\u001b[0m \u001b[0mar\u001b[0m\u001b[1;33m[\u001b[0m\u001b[0mmid\u001b[0m\u001b[1;33m]\u001b[0m\u001b[1;33m>\u001b[0m\u001b[0mk\u001b[0m\u001b[1;33m:\u001b[0m\u001b[1;33m\u001b[0m\u001b[1;33m\u001b[0m\u001b[0m\n",
      "\u001b[1;31mIndexError\u001b[0m: list index out of range"
     ]
    }
   ],
   "source": [
    "#binearyscearch\n",
    "\n",
    "def bineary(ar,s,e,k):\n",
    "    if e >= s:\n",
    "        mid=s+e//2\n",
    "        if ar[mid]==k:\n",
    "            return mid\n",
    "        elif ar[mid]>k:\n",
    "            return bineary(ar,s,mid-1,k)\n",
    "        else:\n",
    "            return bineary(ar,mid-1,e,k)\n",
    "    else:\n",
    "        return -1\n",
    "\n",
    "print(bineary(sorted(ar),0,len(ar)-1,88))\n",
    "    "
   ]
  },
  {
   "cell_type": "code",
   "execution_count": 9,
   "metadata": {},
   "outputs": [
    {
     "name": "stdout",
     "output_type": "stream",
     "text": [
      "Element is present at index 3\n"
     ]
    }
   ],
   "source": [
    "# Python 3 program for recursive binary search.\n",
    "# Modifications needed for the older Python 2 are found in comments.\n",
    "\n",
    "# Returns index of x in arr if present, else -1\n",
    "def binary_search(arr, low, high, x):\n",
    "\n",
    "\t# Check base case\n",
    "\tif high >= low:\n",
    "\n",
    "\t\tmid = (high + low) // 2\n",
    "\n",
    "\t\t# If element is present at the middle itself\n",
    "\t\tif arr[mid] == x:\n",
    "\t\t\treturn mid\n",
    "\n",
    "\t\t# If element is smaller than mid, then it can only\n",
    "\t\t# be present in left subarray\n",
    "\t\telif arr[mid] > x:\n",
    "\t\t\treturn binary_search(arr, low, mid - 1, x)\n",
    "\n",
    "\t\t# Else the element can only be present in right subarray\n",
    "\t\telse:\n",
    "\t\t\treturn binary_search(arr, mid + 1, high, x)\n",
    "\n",
    "\telse:\n",
    "\t\t# Element is not present in the array\n",
    "\t\treturn -1\n",
    "\n",
    "# Test array\n",
    "arr = [ 2, 3, 4, 10, 40 ]\n",
    "x = 10\n",
    "\n",
    "# Function call\n",
    "result = binary_search(arr, 0, len(arr)-1, x)\n",
    "\n",
    "if result != -1:\n",
    "\tprint(\"Element is present at index\", str(result))\n",
    "else:\n",
    "\tprint(\"Element is not present in array\")\n"
   ]
  },
  {
   "cell_type": "markdown",
   "metadata": {},
   "source": [
    "sorting algo"
   ]
  },
  {
   "cell_type": "code",
   "execution_count": 13,
   "metadata": {},
   "outputs": [
    {
     "name": "stdout",
     "output_type": "stream",
     "text": [
      "[1, 3, 7, 7, 8, 8, 9, 10]\n"
     ]
    }
   ],
   "source": [
    "#selection sort\n",
    "\n",
    "def selection(ar):\n",
    "    for i in range (len(ar)):\n",
    "        for j in range (i+1,len(ar)):\n",
    "            if ar[i]>ar[j]:\n",
    "                t=ar[j]\n",
    "                ar[j]=ar[i]\n",
    "                ar[i]=t\n",
    "    return ar\n",
    "\n",
    "ar=[1,3,7,8,9,7,8,10]\n",
    "print(selection(ar))               \n",
    "            "
   ]
  },
  {
   "cell_type": "code",
   "execution_count": 19,
   "metadata": {},
   "outputs": [
    {
     "name": "stdout",
     "output_type": "stream",
     "text": [
      "[1, 3, 7, 7, 8, 8, 9, 10]\n"
     ]
    }
   ],
   "source": [
    "#insertion sort\n",
    "\n",
    "def insertionsor(ar):\n",
    "    for i in range(1,len(ar)):\n",
    "        v=ar[i]\n",
    "        j=i-1\n",
    "        while (ar[j]>v) and j>0:\n",
    "            ar[j+1]=ar[j]\n",
    "            j=j-1 \n",
    "        ar[j+1]=v\n",
    "    return ar\n",
    "\n",
    "ar=[1,3,7,8,9,7,8,10]\n",
    "print(insertionsor(ar))\n",
    "\n"
   ]
  },
  {
   "cell_type": "code",
   "execution_count": 21,
   "metadata": {},
   "outputs": [
    {
     "name": "stdout",
     "output_type": "stream",
     "text": [
      "Old array without sorting:-- [4, 8, 0, 1, 45]\n",
      "New array with sorting accending order:-- [0, 1, 4, 8, 45]\n"
     ]
    }
   ],
   "source": [
    "#marge sort\n",
    "\n",
    "\n",
    "\n",
    "def mergesort(list1):\n",
    "    #mid=len(list1)//21\n",
    "    if len(list1)>1:\n",
    "        mid =len(list1)//2\n",
    "        left_lest=list1[:mid]\n",
    "        right_lest=list1[mid:]\n",
    "        mergesort(left_lest)\n",
    "        mergesort(right_lest)\n",
    "        i=0\n",
    "        j=0\n",
    "        k=0\n",
    "        while i<len(left_lest) and j<len(right_lest):\n",
    "            if left_lest[i]<right_lest[j]:\n",
    "                list1[k]=left_lest[i]\n",
    "                i+=1\n",
    "                k+=1\n",
    "            else:\n",
    "                list1[k]=right_lest[j]\n",
    "                j=j+1\n",
    "                k=k+1\n",
    "        while i<len(left_lest):\n",
    "            list1[k]=left_lest[i]\n",
    "            i=i+1\n",
    "            j=j+1\n",
    "        while j<len(right_lest):\n",
    "            list1[k]=right_lest[j]\n",
    "            j=j+1\n",
    "            k=k+1\n",
    "            return list1\n",
    "\n",
    "num=int(input(\"enter no of element in list:--\"))\n",
    "list = [int(input()) for l in range (num) ]\n",
    "\n",
    "print(\"Old array without sorting:--\",list)\n",
    "mergesort(list)\n",
    "print(\"New array with sorting accending order:--\",list)\n",
    "        \n",
    "    "
   ]
  },
  {
   "cell_type": "code",
   "execution_count": 28,
   "metadata": {},
   "outputs": [
    {
     "name": "stdout",
     "output_type": "stream",
     "text": [
      "[0, 1, 2, 4, 5, 7, 10, 66, 84, 99]\n"
     ]
    }
   ],
   "source": [
    "#bubble sort\n",
    "\n",
    "def bubble_sort(arr):\n",
    "  \n",
    "  a=1\n",
    "  while(a<len(arr)-1):\n",
    "    for i in range (0,len(arr)-a):\n",
    "      if arr[i]>arr[i+1]:\n",
    "        tem=arr[i]\n",
    "        arr[i]=arr[i+1]\n",
    "        arr[i+1]=tem    \n",
    "    a=a+1\n",
    "  # for item in arr:\n",
    "  #   print(item)\n",
    "  return arr\n",
    "ar=[10,0,1,84,99,2,7,4,66,5]\n",
    "\n",
    "print(bubble_sort(ar))"
   ]
  },
  {
   "cell_type": "code",
   "execution_count": 27,
   "metadata": {},
   "outputs": [
    {
     "name": "stdout",
     "output_type": "stream",
     "text": [
      "[10, 10, 10, 84, 99, 99, 99, 99, 99, 99]\n"
     ]
    }
   ],
   "source": [
    "\n",
    "def bubble(arr):\n",
    "  for i in range (0,len(arr)):\n",
    "    for j in range (i+1,len(arr)):\n",
    "      if arr[i]>arr[j]:\n",
    "        tem=arr[i]\n",
    "        arr[j]=arr[i]\n",
    "        arr[i]=tem \n",
    "  return arr   \n",
    "ar=[10,0,1,84,99,2,7,4,66,5]\n",
    "\n",
    "\n",
    "print(bubble(ar))"
   ]
  },
  {
   "cell_type": "code",
   "execution_count": 29,
   "metadata": {},
   "outputs": [
    {
     "name": "stdout",
     "output_type": "stream",
     "text": [
      "2\n"
     ]
    }
   ],
   "source": [
    "a=[[1,2,3],\n",
    "   [1,3,5]]\n",
    "print(len(a))"
   ]
  },
  {
   "cell_type": "code",
   "execution_count": 1,
   "metadata": {},
   "outputs": [
    {
     "ename": "SyntaxError",
     "evalue": "invalid non-printable character U+00A0 (<ipython-input-1-345079803150>, line 1)",
     "output_type": "error",
     "traceback": [
      "\u001b[1;36m  File \u001b[1;32m\"<ipython-input-1-345079803150>\"\u001b[1;36m, line \u001b[1;32m1\u001b[0m\n\u001b[1;33m    import numpy as np\u001b[0m\n\u001b[1;37m          ^\u001b[0m\n\u001b[1;31mSyntaxError\u001b[0m\u001b[1;31m:\u001b[0m invalid non-printable character U+00A0\n"
     ]
    }
   ],
   "source": [
    "import numpy as np \n",
    "from scipy.sparse import csr_matrix\n",
    "# create a 2-D representation of the matrix\n",
    "A = np.array([[1, 0, 0, 0, 0, 0], [0, 0, 2, 0, 0, 1],\n",
    " [0, 0, 0, 2, 0, 0]])\n",
    "print(\"Dense matrix representation: \\n\", A)\n",
    "# convert to sparse matrix representation \n",
    "S = csr_matrix(A)\n",
    "print(\"Sparse matrix: \\n\",S)\n",
    "# convert back to 2-D representation of the matrix\n",
    "B = S.todense()\n",
    "print(\"Dense matrix: \\n\", B)\n"
   ]
  },
  {
   "cell_type": "code",
   "execution_count": null,
   "metadata": {},
   "outputs": [],
   "source": [
    "import numpy as np\n",
    "a=np.a"
   ]
  },
  {
   "cell_type": "code",
   "execution_count": 23,
   "metadata": {},
   "outputs": [
    {
     "name": "stdout",
     "output_type": "stream",
     "text": [
      "5 6 11 12 13 "
     ]
    }
   ],
   "source": [
    "\n",
    "def insertionSort(arr):\n",
    "    # print(arr)\n",
    "\tfor i in range(1, len(arr)):\n",
    "    \n",
    "\t\tkey = arr[i]\n",
    "\n",
    "\t\tj = i-1\n",
    "\t\twhile j >= 0 and key < arr[j] :\n",
    "\t\t\t\tarr[j + 1] = arr[j]\n",
    "\t\t\t\tj -= 1\n",
    "        # print(arr)|\n",
    "\t\tarr[j + 1] = key\n",
    "\n",
    "        \n",
    "    \n",
    "arr = [12, 11, 13, 5, 6]\n",
    "insertionSort(arr)\n",
    "for i in range(len(arr)):\n",
    "    print(arr[i],end=\" \")\n",
    "\n",
    "    "
   ]
  },
  {
   "cell_type": "code",
   "execution_count": 26,
   "metadata": {},
   "outputs": [
    {
     "name": "stdout",
     "output_type": "stream",
     "text": [
      "[2, 4, 6, 8]\n",
      "[2, 4, 6, 8]\n",
      "[2, 4, 6, 8]\n",
      "[2, 4, 6, 8]\n",
      "None\n"
     ]
    }
   ],
   "source": [
    "def insertionsort_(a):\n",
    "    for i in range (len(a)):\n",
    "        # print(a)\n",
    "        value = a[i]\n",
    "        j=i-1\n",
    "        while (a[j]>=value and j>=0):\n",
    "            a[j+1]=a[j]\n",
    "            j=j-1\n",
    "            # print(a)\n",
    "        a[j+1]=value\n",
    "        print(a)\n",
    "        \n",
    "        \n",
    "# a=[5,5,7,1,0,7,2]\n",
    "a=[2,4, 6, 8]\n",
    "print(insertionsort_(a))\n",
    "# print(a)\n"
   ]
  },
  {
   "cell_type": "code",
   "execution_count": 1,
   "metadata": {},
   "outputs": [
    {
     "data": {
      "text/plain": [
       "[3, 100, 300]"
      ]
     },
     "execution_count": 1,
     "metadata": {},
     "output_type": "execute_result"
    }
   ],
   "source": []
  },
  {
   "cell_type": "code",
   "execution_count": null,
   "metadata": {},
   "outputs": [],
   "source": []
  },
  {
   "cell_type": "code",
   "execution_count": null,
   "metadata": {},
   "outputs": [],
   "source": []
  },
  {
   "cell_type": "code",
   "execution_count": null,
   "metadata": {},
   "outputs": [],
   "source": []
  },
  {
   "cell_type": "code",
   "execution_count": null,
   "metadata": {},
   "outputs": [],
   "source": []
  },
  {
   "cell_type": "code",
   "execution_count": null,
   "metadata": {},
   "outputs": [],
   "source": []
  },
  {
   "cell_type": "code",
   "execution_count": null,
   "metadata": {},
   "outputs": [],
   "source": []
  }
 ],
 "metadata": {
  "interpreter": {
   "hash": "64ed1da1f4be2165bc54c2fe6afcce1ac11341b9a0bdef4e54b6a0ca9c1fd8c6"
  },
  "kernelspec": {
   "display_name": "Python 3.9.1 64-bit",
   "name": "python3"
  },
  "language_info": {
   "codemirror_mode": {
    "name": "ipython",
    "version": 3
   },
   "file_extension": ".py",
   "mimetype": "text/x-python",
   "name": "python",
   "nbconvert_exporter": "python",
   "pygments_lexer": "ipython3",
   "version": "3.9.1"
  },
  "orig_nbformat": 4
 },
 "nbformat": 4,
 "nbformat_minor": 2
}
