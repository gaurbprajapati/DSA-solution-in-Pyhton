{
 "cells": [
  {
   "cell_type": "code",
   "execution_count": 2,
   "metadata": {},
   "outputs": [
    {
     "name": "stdout",
     "output_type": "stream",
     "text": [
      "1 2 3 4 5 6\n"
     ]
    }
   ],
   "source": [
    "\n",
    "\n",
    "def insertion_sort(l):\n",
    "    for i in range(1, len(l)):\n",
    "        key = l[i]\n",
    "        j = i-1        \n",
    "        while (j >= 0) and (l[j] > key):\n",
    "           l[j+1] = l[j]\n",
    "           j -= 1\n",
    "        l[j+1] = key\n",
    "ar=[4, 1 ,3 ,5, 6, 2,]\n",
    "insertion_sort(ar)\n",
    "print(\" \".join(map(str,ar)))"
   ]
  },
  {
   "cell_type": "code",
   "execution_count": 23,
   "metadata": {},
   "outputs": [
    {
     "name": "stdout",
     "output_type": "stream",
     "text": [
      "1 4 3 5 6 2\n",
      "1 3 4 5 6 2\n",
      "1 3 4 5 6 2\n",
      "1 3 4 5 6 2\n",
      "1 2 3 4 5 6\n"
     ]
    }
   ],
   "source": [
    "l=[1, 4, 3, 5, 6, 2]\n",
    "\n",
    "for i in range(1, len(l)):\n",
    "    key = l[i]\n",
    "    j = i-1        \n",
    "    while (j >= 0) and (l[j] > key):\n",
    "       l[j+1] = l[j]\n",
    "       j -= 1\n",
    "    l[j+1] = key\n",
    "    print(*l)\n"
   ]
  },
  {
   "cell_type": "code",
   "execution_count": 12,
   "metadata": {},
   "outputs": [
    {
     "name": "stdout",
     "output_type": "stream",
     "text": [
      "[1, 4, 3, 5, 6, 2]\n",
      "[1, 3, 4, 5, 6, 2]\n",
      "[1, 3, 4, 5, 2, 6]\n",
      "[1, 3, 4, 2, 5, 6]\n",
      "[1, 3, 2, 4, 5, 6]\n",
      "[1, 2, 3, 4, 5, 6]\n",
      "None\n"
     ]
    }
   ],
   "source": [
    "\n",
    "\n",
    "def bubble_sot(arr):\n",
    "    a=1\n",
    "    while(a<len(arr)):\n",
    "        for i  in range (0,len(arr)-a):\n",
    "            if arr[i]>arr[i+1]:\n",
    "                temp=arr[i+1]\n",
    "                arr[i+1]=arr[i]\n",
    "                arr[i]=temp\n",
    "                print(arr)\n",
    "        a+=1\n",
    "        \n",
    "a=[1, 4, 3, 5, 6, 2]\n",
    "print(a)\n",
    "print(bubble_sot(a))\n",
    "# print(a)"
   ]
  },
  {
   "cell_type": "code",
   "execution_count": 65,
   "metadata": {},
   "outputs": [
    {
     "name": "stdout",
     "output_type": "stream",
     "text": [
      "[2, 2, 5, 1]\n",
      "[2, 2, 2, 1]\n",
      "[1, 2, 2, 1]\n",
      "4\n"
     ]
    }
   ],
   "source": [
    "# a=[1, 3,5 , 9, 13 ,22 ,27, 35, 46 ,51 ,55,83 ,87 ,23]\n",
    "a=[2,3,5,1]\n",
    "v=a[-1]\n",
    "j=len(a)-2\n",
    "for j in range (j):\n",
    "    if a[j]>v:\n",
    "        a[j+1]=a[j]\n",
    "        print(a)\n",
    "    j-=1\n",
    "    a[j]=v\n",
    "print((a))    \n",
    "print(len(a))    \n",
    "    \n",
    "    \n",
    "        "
   ]
  },
  {
   "cell_type": "code",
   "execution_count": 88,
   "metadata": {},
   "outputs": [
    {
     "name": "stdout",
     "output_type": "stream",
     "text": [
      "2 3 5 5\n",
      "2 3 3 5\n"
     ]
    }
   ],
   "source": [
    "arr=[2,3,5,1]\n",
    "v=arr[-1]\n",
    "for i in range (len(arr)-1,0,-1):\n",
    "  if arr[i]>v:\n",
    "    arr[i+1]=arr[i]\n",
    "    print(*arr)\n",
    "\n"
   ]
  },
  {
   "cell_type": "code",
   "execution_count": 72,
   "metadata": {},
   "outputs": [
    {
     "name": "stdout",
     "output_type": "stream",
     "text": [
      "2 3 5 5\n",
      "2 3 3 5\n",
      "2 2 3 5\n",
      "1 2 3 5\n"
     ]
    }
   ],
   "source": [
    "\n",
    "arr=[2,3,5,1]\n",
    "v=arr[-1]\n",
    "i=len(arr)-1\n",
    "while i>0 and arr[i-1]>v:\n",
    "    arr[i]=arr[i-1]\n",
    "    print(*arr)\n",
    "    i-=1\n",
    "arr[i]=v\n",
    "print(*arr)"
   ]
  },
  {
   "cell_type": "code",
   "execution_count": 95,
   "metadata": {},
   "outputs": [
    {
     "name": "stdout",
     "output_type": "stream",
     "text": [
      "[2, 3, 5, 5]\n",
      "[2, 3, 3, 5]\n"
     ]
    }
   ],
   "source": [
    "arr=[2,3,5,1]\n",
    "v=arr[-1]\n",
    "i=len(arr)-2\n",
    "for j in range (i,0,-1):\n",
    "    if arr[j]>v:\n",
    "        arr[j+1]=arr[j]\n",
    "        print(arr)\n",
    "    i=i-1"
   ]
  },
  {
   "cell_type": "code",
   "execution_count": 9,
   "metadata": {},
   "outputs": [
    {
     "ename": "IndexError",
     "evalue": "list index out of range",
     "output_type": "error",
     "traceback": [
      "\u001b[1;31m---------------------------------------------------------------------------\u001b[0m",
      "\u001b[1;31mIndexError\u001b[0m                                Traceback (most recent call last)",
      "\u001b[1;32m<ipython-input-9-f5ebcd2e8376>\u001b[0m in \u001b[0;36m<module>\u001b[1;34m\u001b[0m\n\u001b[0;32m     26\u001b[0m \u001b[0ma\u001b[0m \u001b[1;33m=\u001b[0m \u001b[1;33m[\u001b[0m\u001b[1;36m68\u001b[0m\u001b[1;33m,\u001b[0m \u001b[1;36m13\u001b[0m\u001b[1;33m,\u001b[0m \u001b[1;36m1\u001b[0m\u001b[1;33m,\u001b[0m \u001b[1;36m49\u001b[0m\u001b[1;33m,\u001b[0m \u001b[1;36m58\u001b[0m\u001b[1;33m]\u001b[0m\u001b[1;33m\u001b[0m\u001b[1;33m\u001b[0m\u001b[0m\n\u001b[0;32m     27\u001b[0m \u001b[1;31m# print(a)\u001b[0m\u001b[1;33m\u001b[0m\u001b[1;33m\u001b[0m\u001b[1;33m\u001b[0m\u001b[0m\n\u001b[1;32m---> 28\u001b[1;33m \u001b[0mqsort\u001b[0m\u001b[1;33m(\u001b[0m\u001b[0ma\u001b[0m\u001b[1;33m,\u001b[0m\u001b[1;36m0\u001b[0m\u001b[1;33m,\u001b[0m\u001b[0mlen\u001b[0m\u001b[1;33m(\u001b[0m\u001b[0ma\u001b[0m\u001b[1;33m)\u001b[0m\u001b[1;33m-\u001b[0m\u001b[1;36m1\u001b[0m\u001b[1;33m)\u001b[0m\u001b[1;33m\u001b[0m\u001b[1;33m\u001b[0m\u001b[0m\n\u001b[0m\u001b[0;32m     29\u001b[0m \u001b[1;31m# print(a)\u001b[0m\u001b[1;33m\u001b[0m\u001b[1;33m\u001b[0m\u001b[1;33m\u001b[0m\u001b[0m\n",
      "\u001b[1;32m<ipython-input-9-f5ebcd2e8376>\u001b[0m in \u001b[0;36mqsort\u001b[1;34m(arr, lb, ub)\u001b[0m\n\u001b[0;32m     19\u001b[0m \u001b[1;32mdef\u001b[0m \u001b[0mqsort\u001b[0m\u001b[1;33m(\u001b[0m\u001b[0marr\u001b[0m\u001b[1;33m,\u001b[0m\u001b[0mlb\u001b[0m\u001b[1;33m,\u001b[0m\u001b[0mub\u001b[0m\u001b[1;33m)\u001b[0m\u001b[1;33m:\u001b[0m\u001b[1;33m\u001b[0m\u001b[1;33m\u001b[0m\u001b[0m\n\u001b[0;32m     20\u001b[0m     \u001b[1;32mif\u001b[0m \u001b[0mlb\u001b[0m\u001b[1;33m<\u001b[0m\u001b[0mub\u001b[0m\u001b[1;33m:\u001b[0m\u001b[1;33m\u001b[0m\u001b[1;33m\u001b[0m\u001b[0m\n\u001b[1;32m---> 21\u001b[1;33m         \u001b[0ml\u001b[0m\u001b[1;33m=\u001b[0m\u001b[0mpartition\u001b[0m\u001b[1;33m(\u001b[0m\u001b[0marr\u001b[0m\u001b[1;33m,\u001b[0m\u001b[0mlb\u001b[0m\u001b[1;33m,\u001b[0m\u001b[0mub\u001b[0m\u001b[1;33m)\u001b[0m\u001b[1;33m\u001b[0m\u001b[1;33m\u001b[0m\u001b[0m\n\u001b[0m\u001b[0;32m     22\u001b[0m         \u001b[0mqsort\u001b[0m\u001b[1;33m(\u001b[0m\u001b[0marr\u001b[0m\u001b[1;33m,\u001b[0m\u001b[0mlb\u001b[0m\u001b[1;33m,\u001b[0m\u001b[0ml\u001b[0m\u001b[1;33m-\u001b[0m\u001b[1;36m1\u001b[0m\u001b[1;33m)\u001b[0m\u001b[1;33m\u001b[0m\u001b[1;33m\u001b[0m\u001b[0m\n\u001b[0;32m     23\u001b[0m         \u001b[0mqsort\u001b[0m\u001b[1;33m(\u001b[0m\u001b[0marr\u001b[0m\u001b[1;33m,\u001b[0m\u001b[0ml\u001b[0m\u001b[1;33m+\u001b[0m\u001b[1;36m1\u001b[0m\u001b[1;33m,\u001b[0m\u001b[0mub\u001b[0m\u001b[1;33m)\u001b[0m\u001b[1;33m\u001b[0m\u001b[1;33m\u001b[0m\u001b[0m\n",
      "\u001b[1;32m<ipython-input-9-f5ebcd2e8376>\u001b[0m in \u001b[0;36mpartition\u001b[1;34m(arr, lb, ub)\u001b[0m\n\u001b[0;32m      9\u001b[0m             \u001b[0mi\u001b[0m\u001b[1;33m=\u001b[0m\u001b[0mi\u001b[0m\u001b[1;33m+\u001b[0m\u001b[1;36m1\u001b[0m\u001b[1;33m\u001b[0m\u001b[1;33m\u001b[0m\u001b[0m\n\u001b[0;32m     10\u001b[0m \u001b[1;33m\u001b[0m\u001b[0m\n\u001b[1;32m---> 11\u001b[1;33m         \u001b[1;32mwhile\u001b[0m \u001b[1;33m(\u001b[0m\u001b[0mpivot\u001b[0m\u001b[1;33m>=\u001b[0m\u001b[0marr\u001b[0m\u001b[1;33m[\u001b[0m\u001b[0mj\u001b[0m\u001b[1;33m]\u001b[0m\u001b[1;33m)\u001b[0m\u001b[1;33m:\u001b[0m\u001b[1;33m\u001b[0m\u001b[1;33m\u001b[0m\u001b[0m\n\u001b[0m\u001b[0;32m     12\u001b[0m             \u001b[0mj\u001b[0m\u001b[1;33m=\u001b[0m\u001b[0mj\u001b[0m\u001b[1;33m-\u001b[0m\u001b[1;36m1\u001b[0m\u001b[1;33m\u001b[0m\u001b[1;33m\u001b[0m\u001b[0m\n\u001b[0;32m     13\u001b[0m         \u001b[1;32mif\u001b[0m \u001b[0mi\u001b[0m\u001b[1;33m<\u001b[0m\u001b[0mj\u001b[0m\u001b[1;33m:\u001b[0m\u001b[1;33m\u001b[0m\u001b[1;33m\u001b[0m\u001b[0m\n",
      "\u001b[1;31mIndexError\u001b[0m: list index out of range"
     ]
    }
   ],
   "source": [
    "def partition(arr,lb,ub):\n",
    "    pivot=arr[0]\n",
    "    i=lb\n",
    "    j=ub\n",
    "    \n",
    "    while(True):\n",
    "        \n",
    "        while (pivot<=arr[i]):\n",
    "            i=i+1\n",
    "        \n",
    "        while (pivot>=arr[j]):\n",
    "            j=j-1\n",
    "        if i<j:\n",
    "            arr[i],arr[j]=arr[j],arr[i]\n",
    "        break\n",
    "    \n",
    "    arr[lb],arr[ub]=arr[ub],arr[lb]\n",
    "\n",
    "def qsort(arr,lb,ub):\n",
    "    if lb<ub:\n",
    "        l=partition(arr,lb,ub)\n",
    "        qsort(arr,lb,l-1)\n",
    "        qsort(arr,l+1,ub)\n",
    "    print(a)\n",
    "\n",
    "a = [68, 13, 1, 49, 58]  \n",
    "# print(a)\n",
    "qsort(a,0,len(a)-1)\n",
    "# print(a)"
   ]
  },
  {
   "cell_type": "code",
   "execution_count": null,
   "metadata": {},
   "outputs": [],
   "source": []
  },
  {
   "cell_type": "code",
   "execution_count": null,
   "metadata": {},
   "outputs": [],
   "source": []
  },
  {
   "cell_type": "code",
   "execution_count": null,
   "metadata": {},
   "outputs": [],
   "source": []
  },
  {
   "cell_type": "code",
   "execution_count": null,
   "metadata": {},
   "outputs": [],
   "source": []
  },
  {
   "cell_type": "code",
   "execution_count": null,
   "metadata": {},
   "outputs": [],
   "source": []
  }
 ],
 "metadata": {
  "interpreter": {
   "hash": "64ed1da1f4be2165bc54c2fe6afcce1ac11341b9a0bdef4e54b6a0ca9c1fd8c6"
  },
  "kernelspec": {
   "display_name": "Python 3.9.1 64-bit",
   "name": "python3"
  },
  "language_info": {
   "codemirror_mode": {
    "name": "ipython",
    "version": 3
   },
   "file_extension": ".py",
   "mimetype": "text/x-python",
   "name": "python",
   "nbconvert_exporter": "python",
   "pygments_lexer": "ipython3",
   "version": "3.9.1"
  },
  "orig_nbformat": 4
 },
 "nbformat": 4,
 "nbformat_minor": 2
}
